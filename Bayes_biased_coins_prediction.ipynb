{
 "cells": [
  {
   "cell_type": "markdown",
   "metadata": {},
   "source": [
    "#### Part I\n",
    "Coding.\n",
    "\n",
    "Remember the Bayes Dice app we build many weeks ago? Let's revisit that app, but with a twist.\n",
    "\n",
    "You have 3 coins with the following probabilities. P(H|1) = 0.3, P(H|2) = 0.45, P(H|3) = 0.75.\n",
    "\n",
    "That is read as the probability of heads for coin 1 is 30%, etc.\n",
    "\n",
    "Write a small app, using Object Oriented Python, that allows you to randomly select a coin (without looking) and then repeatedly flip it about 10 times or so until you are fairly certain as to the type of coin you selected.\n"
   ]
  },
  {
   "cell_type": "code",
   "execution_count": null,
   "metadata": {},
   "outputs": [],
   "source": [
    "import random\n",
    "\n",
    "\n",
    "class BayesDice:\n",
    "    # ------------------------------------------------------------ #\n",
    "    def __init__(self):\n",
    "        self.dice = [4, 6, 8, 12, 20]\n",
    "        self.data = {die: 0.20 for die in self.dice}\n",
    "    # ------------------------------------------------------------ #\n",
    "\n",
    "    def choose_die(self):\n",
    "        self.die = random.choice(self.dice)\n",
    "    # ------------------------------------------------------------ #\n",
    "\n",
    "    def roll_die(self):\n",
    "        return random.randint(1, self.die)\n",
    "    # ------------------------------------------------------------ #\n",
    "\n",
    "    def update_priors(self, roll):\n",
    "        print('before update:', self.data)\n",
    "        denominator = list(map(lambda die: (0 if roll > die else (1 / die)) * self.data[die], self.dice))\n",
    "        self.data = {self.dice[i]: numerator / sum(denominator) for i, numerator in enumerate(denominator)}\n",
    "        self.debug(roll, denominator)\n",
    "    # ------------------------------------------------------------ #\n",
    "\n",
    "    def debug(self, roll, denominator):\n",
    "        print('die:', self.die, 'roll:', roll)\n",
    "        print('denominator:', denominator)\n",
    "        print('data:', self.data)\n",
    "        print('sum of priors:', sum(self.data.values()))\n",
    "        print('sum of denominator:', sum(denominator))\n",
    "        print('-' * 50)\n",
    "    # ------------------------------------------------------------ #"
   ]
  },
  {
   "cell_type": "code",
   "execution_count": 2,
   "metadata": {},
   "outputs": [
    {
     "name": "stdout",
     "output_type": "stream",
     "text": [
      "Iteration: 0 \n",
      "before update: {4: 0.2, 6: 0.2, 8: 0.2, 12: 0.2, 20: 0.2}\n",
      "die: 8 roll: 3\n",
      "denominator: [0.05, 0.03333333333333333, 0.025, 0.016666666666666666, 0.010000000000000002]\n",
      "data: {4: 0.37037037037037035, 6: 0.24691358024691357, 8: 0.18518518518518517, 12: 0.12345679012345678, 20: 0.07407407407407408}\n",
      "sum of priors: 1.0\n",
      "sum of denominator: 0.135\n",
      "--------------------------------------------------\n",
      "Iteration: 1 \n",
      "before update: {4: 0.37037037037037035, 6: 0.24691358024691357, 8: 0.18518518518518517, 12: 0.12345679012345678, 20: 0.07407407407407408}\n",
      "die: 8 roll: 7\n",
      "denominator: [0.0, 0.0, 0.023148148148148147, 0.010288065843621397, 0.0037037037037037043]\n",
      "data: {4: 0.0, 6: 0.0, 8: 0.6232686980609418, 12: 0.27700831024930744, 20: 0.09972299168975071}\n",
      "sum of priors: 0.9999999999999999\n",
      "sum of denominator: 0.03713991769547325\n",
      "--------------------------------------------------\n",
      "Iteration: 2 \n",
      "before update: {4: 0.0, 6: 0.0, 8: 0.6232686980609418, 12: 0.27700831024930744, 20: 0.09972299168975071}\n",
      "die: 8 roll: 6\n",
      "denominator: [0.0, 0.0, 0.07790858725761772, 0.02308402585410895, 0.004986149584487536]\n",
      "data: {4: 0.0, 6: 0.0, 8: 0.7351339577434111, 12: 0.21781746896101067, 20: 0.04704857329557833}\n",
      "sum of priors: 1.0\n",
      "sum of denominator: 0.1059787626962142\n",
      "--------------------------------------------------\n"
     ]
    }
   ],
   "source": [
    "bd = BayesDice()\n",
    "bd.choose_die()\n",
    "\n",
    "for i in range(3):\n",
    "    print('Iteration: {0} '.format(i))\n",
    "    roll = bd.roll_die()\n",
    "    bd.update_priors(roll)"
   ]
  },
  {
   "cell_type": "code",
   "execution_count": null,
   "metadata": {},
   "outputs": [],
   "source": []
  },
  {
   "cell_type": "markdown",
   "metadata": {},
   "source": [
    "##### Part  II \n",
    "Questions.\n",
    "\n",
    "In general, what makes the Naive Bayes Classifier so naive?\n",
    "Naive Bayes Classifier is naive because it assumes all the fetaures are totally independent of each other\n",
    "\n",
    "What is the difference between the Bernoulli, Gaussian and Multinomial Naive Bayes Classifiers?\n",
    "Bernouli clssifier is for features with two possible binary values\n",
    "Gaussian is for features with continous values as in normal/gausian distribution\n",
    "Multinomial is one that involves counts\n",
    "\n",
    "Can you use the Naive Bayes Classifier if your features are not independent?\n",
    "No, it is not recomended "
   ]
  },
  {
   "cell_type": "code",
   "execution_count": null,
   "metadata": {},
   "outputs": [],
   "source": []
  },
  {
   "cell_type": "code",
   "execution_count": null,
   "metadata": {},
   "outputs": [],
   "source": []
  }
 ],
 "metadata": {
  "kernelspec": {
   "display_name": "Python 3",
   "language": "python",
   "name": "python3"
  },
  "language_info": {
   "codemirror_mode": {
    "name": "ipython",
    "version": 3
   },
   "file_extension": ".py",
   "mimetype": "text/x-python",
   "name": "python",
   "nbconvert_exporter": "python",
   "pygments_lexer": "ipython3",
   "version": "3.7.1"
  }
 },
 "nbformat": 4,
 "nbformat_minor": 2
}
